{
 "cells": [
  {
   "cell_type": "markdown",
   "metadata": {},
   "source": [
    "### 1. Sorting"
   ]
  },
  {
   "cell_type": "code",
   "execution_count": 5,
   "metadata": {},
   "outputs": [],
   "source": [
    "list = [56, 12, 1, 8, 345, 10, 440, 54, 67, 6, 23, 567, 49, -4]\n",
    "\n",
    "def sortport():\n",
    "    for i in range(len(list) - 1):\n",
    "        for j in range(len(list) - 1 - i):\n",
    "            if list[j] > list[j+1]:\n",
    "                list[j], list[j+1] = list[j+1], list[j]\n",
    "    return list"
   ]
  },
  {
   "cell_type": "code",
   "execution_count": 7,
   "metadata": {},
   "outputs": [
    {
     "data": {
      "text/plain": [
       "[-4, 1, 6, 8, 10, 12, 23, 49, 54, 56, 67, 345, 440, 567]"
      ]
     },
     "execution_count": 7,
     "metadata": {},
     "output_type": "execute_result"
    }
   ],
   "source": [
    "sortport()"
   ]
  },
  {
   "cell_type": "markdown",
   "metadata": {},
   "source": [
    "### 2. Calculating x^n"
   ]
  },
  {
   "cell_type": "code",
   "execution_count": 8,
   "metadata": {},
   "outputs": [],
   "source": [
    "def power(x, n):\n",
    "    s = 1\n",
    "    while n > 0:\n",
    "        n = n - 1\n",
    "        s = s * x\n",
    "    return s"
   ]
  },
  {
   "cell_type": "code",
   "execution_count": 9,
   "metadata": {},
   "outputs": [
    {
     "data": {
      "text/plain": [
       "8"
      ]
     },
     "execution_count": 9,
     "metadata": {},
     "output_type": "execute_result"
    }
   ],
   "source": [
    "power(2, 3)"
   ]
  },
  {
   "cell_type": "markdown",
   "metadata": {},
   "source": [
    "### 3. Calculating a * a + b * b + c * c + ..."
   ]
  },
  {
   "cell_type": "code",
   "execution_count": 10,
   "metadata": {},
   "outputs": [],
   "source": [
    "def calc(*numbers):\n",
    "    sum = 0\n",
    "    for n in numbers:\n",
    "        sum = sum + n * n\n",
    "    return sum"
   ]
  },
  {
   "cell_type": "code",
   "execution_count": 11,
   "metadata": {},
   "outputs": [
    {
     "data": {
      "text/plain": [
       "74"
      ]
     },
     "execution_count": 11,
     "metadata": {},
     "output_type": "execute_result"
    }
   ],
   "source": [
    "calc(2, 5, 3, 6)"
   ]
  },
  {
   "cell_type": "markdown",
   "metadata": {},
   "source": [
    "### 4. Lowercase"
   ]
  },
  {
   "cell_type": "code",
   "execution_count": 35,
   "metadata": {},
   "outputs": [
    {
     "data": {
      "text/plain": [
       "['hello', 'world', 'monday']"
      ]
     },
     "execution_count": 35,
     "metadata": {},
     "output_type": "execute_result"
    }
   ],
   "source": [
    "list = ['Hello', 'World', 'MONDAY']\n",
    "[s.lower() for s in list]"
   ]
  },
  {
   "cell_type": "code",
   "execution_count": 40,
   "metadata": {},
   "outputs": [
    {
     "name": "stdout",
     "output_type": "stream",
     "text": [
      "HELLO WORLD! TODAY IS JAN 4TH, FRIDAY.\n",
      "hello world! today is jan 4th, friday.\n",
      "Hello world! today is jan 4th, friday.\n",
      "Hello World! Today Is Jan 4Th, Friday.\n"
     ]
    }
   ],
   "source": [
    "string = \"Hello World! Today is Jan 4th, Friday.\"\n",
    "\n",
    "print(string.upper())\n",
    "print(string.lower())\n",
    "print(string.capitalize())\n",
    "print(string.title())"
   ]
  },
  {
   "cell_type": "markdown",
   "metadata": {},
   "source": [
    "### 5. Files and Folders in a set dir"
   ]
  },
  {
   "cell_type": "code",
   "execution_count": null,
   "metadata": {},
   "outputs": [],
   "source": [
    "def print_dir():\n",
    "    filepath = input(\"Please input a path: \")\n",
    "    if filepath == \"\":\n",
    "        print(\"Please input a correct path\")\n",
    "    else:\n",
    "        for i in os.listdir(filepath):\n",
    "            print(os.path.join(filepath, i))\n",
    "            \n",
    "print(print_dir())"
   ]
  },
  {
   "cell_type": "markdown",
   "metadata": {},
   "source": [
    "### 6. Swap order in dictionary "
   ]
  },
  {
   "cell_type": "code",
   "execution_count": 15,
   "metadata": {},
   "outputs": [
    {
     "name": "stdout",
     "output_type": "stream",
     "text": [
      "{'a': 'A', 'b': 'B', 'c': 'C', 'd': 'D'}\n"
     ]
    }
   ],
   "source": [
    "old_dict = {\"A\": \"a\", \"B\": \"b\", \"C\": \"c\", \"D\": \"d\"}\n",
    "new_dict = {y:x for x, y in old_dict.items()}\n",
    "print(new_dict)"
   ]
  },
  {
   "cell_type": "markdown",
   "metadata": {},
   "source": [
    "### 7. "
   ]
  },
  {
   "cell_type": "code",
   "execution_count": 16,
   "metadata": {},
   "outputs": [
    {
     "name": "stdout",
     "output_type": "stream",
     "text": [
      "1 x 1 = 1 \t\n",
      "2 x 1 = 2 \t2 x 2 = 4 \t\n",
      "3 x 1 = 3 \t3 x 2 = 6 \t3 x 3 = 9 \t\n",
      "4 x 1 = 4 \t4 x 2 = 8 \t4 x 3 = 12 \t4 x 4 = 16 \t\n",
      "5 x 1 = 5 \t5 x 2 = 10 \t5 x 3 = 15 \t5 x 4 = 20 \t5 x 5 = 25 \t\n",
      "6 x 1 = 6 \t6 x 2 = 12 \t6 x 3 = 18 \t6 x 4 = 24 \t6 x 5 = 30 \t6 x 6 = 36 \t\n",
      "7 x 1 = 7 \t7 x 2 = 14 \t7 x 3 = 21 \t7 x 4 = 28 \t7 x 5 = 35 \t7 x 6 = 42 \t7 x 7 = 49 \t\n",
      "8 x 1 = 8 \t8 x 2 = 16 \t8 x 3 = 24 \t8 x 4 = 32 \t8 x 5 = 40 \t8 x 6 = 48 \t8 x 7 = 56 \t8 x 8 = 64 \t\n",
      "9 x 1 = 9 \t9 x 2 = 18 \t9 x 3 = 27 \t9 x 4 = 36 \t9 x 5 = 45 \t9 x 6 = 54 \t9 x 7 = 63 \t9 x 8 = 72 \t9 x 9 = 81 \t\n"
     ]
    }
   ],
   "source": [
    "for i in range(1, 10):\n",
    "    for j in range(1, i+1):\n",
    "        print('%d x %d = %d \\t'%(i, j, i*j), end = '')\n",
    "    print()"
   ]
  },
  {
   "cell_type": "markdown",
   "metadata": {},
   "source": [
    "### 8. Change all \"3\"s to \"3a\" in a list"
   ]
  },
  {
   "cell_type": "code",
   "execution_count": 18,
   "metadata": {},
   "outputs": [
    {
     "name": "stdout",
     "output_type": "stream",
     "text": [
      "['harden', 'lampard', '3a', 34, 56, 78, 64, 87, 23, 95, 93, 59]\n"
     ]
    }
   ],
   "source": [
    "list = [\"harden\", \"lampard\", 3, 34, 56, 78, 64, 87, 23, 95, 93, 59]\n",
    "for i in range(list.count(3)):\n",
    "    ele_index = list.index(3)\n",
    "    list[ele_index] = \"3a\"\n",
    "    print(list)"
   ]
  },
  {
   "cell_type": "markdown",
   "metadata": {},
   "source": [
    "### 9. Print names in a list"
   ]
  },
  {
   "cell_type": "code",
   "execution_count": 22,
   "metadata": {},
   "outputs": [
    {
     "name": "stdout",
     "output_type": "stream",
     "text": [
      "Hello, Jane\n",
      "Hello, Ana\n",
      "Hello, Cindy\n"
     ]
    }
   ],
   "source": [
    "list = ['Jane', 'Ana', 'Cindy']\n",
    "for i in range(len(list)):\n",
    "    print(\"Hello, %s\"%list[i])"
   ]
  },
  {
   "cell_type": "markdown",
   "metadata": {},
   "source": [
    "### 10. Merge & Remove duplicates"
   ]
  },
  {
   "cell_type": "code",
   "execution_count": 26,
   "metadata": {},
   "outputs": [
    {
     "name": "stdout",
     "output_type": "stream",
     "text": [
      "[2, 3, 5, 7, 6, 8, 5, 6, 9, 0, 2, 3]\n",
      "{0, 2, 3, 5, 6, 7, 8, 9}\n"
     ]
    }
   ],
   "source": [
    "list1 = [2, 3, 5, 7, 6, 8]\n",
    "list2 = [5, 6, 9, 0, 2, 3]\n",
    "\n",
    "list3 = list1 + list2\n",
    "print(list3) #keep duplicates\n",
    "print(set(list3)) #remove duplicates"
   ]
  },
  {
   "cell_type": "markdown",
   "metadata": {},
   "source": [
    "### 11. Calculate square root"
   ]
  },
  {
   "cell_type": "code",
   "execution_count": 27,
   "metadata": {},
   "outputs": [
    {
     "name": "stdout",
     "output_type": "stream",
     "text": [
      "Please input a number: 5\n",
      "2.23606797749979\n"
     ]
    }
   ],
   "source": [
    "num = float(input(\"Please input a number: \"))\n",
    "num_sqrt = num ** 0.5\n",
    "print(num_sqrt)"
   ]
  },
  {
   "cell_type": "markdown",
   "metadata": {},
   "source": [
    "### 12. Is number?"
   ]
  },
  {
   "cell_type": "code",
   "execution_count": 28,
   "metadata": {},
   "outputs": [],
   "source": [
    "def is_number(s):\n",
    "    try:\n",
    "        float(s)\n",
    "        return True\n",
    "    except ValueError:\n",
    "        pass\n",
    "    \n",
    "    try:\n",
    "        import unicodedata\n",
    "        unicodedata.numeric(s)\n",
    "        return True\n",
    "    except (TypeError, ValueError):\n",
    "        pass\n",
    "    \n",
    "    return False"
   ]
  },
  {
   "cell_type": "code",
   "execution_count": 29,
   "metadata": {},
   "outputs": [
    {
     "name": "stdout",
     "output_type": "stream",
     "text": [
      "False\n"
     ]
    }
   ],
   "source": [
    "print(is_number(\"23f\"))"
   ]
  },
  {
   "cell_type": "code",
   "execution_count": 30,
   "metadata": {},
   "outputs": [
    {
     "name": "stdout",
     "output_type": "stream",
     "text": [
      "True\n"
     ]
    }
   ],
   "source": [
    "print(is_number(\"2345\"))"
   ]
  },
  {
   "cell_type": "markdown",
   "metadata": {},
   "source": [
    "### 13. Leap Year"
   ]
  },
  {
   "cell_type": "code",
   "execution_count": 31,
   "metadata": {},
   "outputs": [
    {
     "name": "stdout",
     "output_type": "stream",
     "text": [
      "Please enter a year: 2019\n",
      "2019 is not a leap year\n"
     ]
    }
   ],
   "source": [
    "year = int(input(\"Please enter a year: \"))\n",
    "if (year % 4) == 0:\n",
    "    if(year % 100) == 0:\n",
    "        if(year % 400) == 0:\n",
    "            print(\"{0} is a leap year\".format(year))\n",
    "        else:\n",
    "            print(\"{0} is not a leap year\".format(year))\n",
    "    else: \n",
    "        print(\"{0} is a leap year\".format(year))\n",
    "else: \n",
    "    print(\"{0} is not a leap year\".format(year))"
   ]
  },
  {
   "cell_type": "code",
   "execution_count": null,
   "metadata": {},
   "outputs": [],
   "source": []
  }
 ],
 "metadata": {
  "kernelspec": {
   "display_name": "Python 3",
   "language": "python",
   "name": "python3"
  },
  "language_info": {
   "codemirror_mode": {
    "name": "ipython",
    "version": 3
   },
   "file_extension": ".py",
   "mimetype": "text/x-python",
   "name": "python",
   "nbconvert_exporter": "python",
   "pygments_lexer": "ipython3",
   "version": "3.6.6"
  }
 },
 "nbformat": 4,
 "nbformat_minor": 2
}
